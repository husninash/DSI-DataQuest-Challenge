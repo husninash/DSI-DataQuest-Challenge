{
  "nbformat": 4,
  "nbformat_minor": 0,
  "metadata": {
    "colab": {
      "provenance": []
    },
    "kernelspec": {
      "name": "python3",
      "display_name": "Python 3"
    },
    "language_info": {
      "name": "python"
    }
  },
  "cells": [
    {
      "cell_type": "code",
      "source": [
        "!pip install catboost"
      ],
      "metadata": {
        "colab": {
          "base_uri": "https://localhost:8080/"
        },
        "id": "2Fy9gEv0I4sj",
        "outputId": "664cf935-74fe-4dcd-b428-391c67066d64"
      },
      "execution_count": null,
      "outputs": [
        {
          "output_type": "stream",
          "name": "stdout",
          "text": [
            "Collecting catboost\n",
            "  Downloading catboost-1.2.8-cp311-cp311-manylinux2014_x86_64.whl.metadata (1.2 kB)\n",
            "Requirement already satisfied: graphviz in /usr/local/lib/python3.11/dist-packages (from catboost) (0.20.3)\n",
            "Requirement already satisfied: matplotlib in /usr/local/lib/python3.11/dist-packages (from catboost) (3.10.0)\n",
            "Requirement already satisfied: numpy<3.0,>=1.16.0 in /usr/local/lib/python3.11/dist-packages (from catboost) (2.0.2)\n",
            "Requirement already satisfied: pandas>=0.24 in /usr/local/lib/python3.11/dist-packages (from catboost) (2.2.2)\n",
            "Requirement already satisfied: scipy in /usr/local/lib/python3.11/dist-packages (from catboost) (1.15.3)\n",
            "Requirement already satisfied: plotly in /usr/local/lib/python3.11/dist-packages (from catboost) (5.24.1)\n",
            "Requirement already satisfied: six in /usr/local/lib/python3.11/dist-packages (from catboost) (1.17.0)\n",
            "Requirement already satisfied: python-dateutil>=2.8.2 in /usr/local/lib/python3.11/dist-packages (from pandas>=0.24->catboost) (2.9.0.post0)\n",
            "Requirement already satisfied: pytz>=2020.1 in /usr/local/lib/python3.11/dist-packages (from pandas>=0.24->catboost) (2025.2)\n",
            "Requirement already satisfied: tzdata>=2022.7 in /usr/local/lib/python3.11/dist-packages (from pandas>=0.24->catboost) (2025.2)\n",
            "Requirement already satisfied: contourpy>=1.0.1 in /usr/local/lib/python3.11/dist-packages (from matplotlib->catboost) (1.3.2)\n",
            "Requirement already satisfied: cycler>=0.10 in /usr/local/lib/python3.11/dist-packages (from matplotlib->catboost) (0.12.1)\n",
            "Requirement already satisfied: fonttools>=4.22.0 in /usr/local/lib/python3.11/dist-packages (from matplotlib->catboost) (4.58.0)\n",
            "Requirement already satisfied: kiwisolver>=1.3.1 in /usr/local/lib/python3.11/dist-packages (from matplotlib->catboost) (1.4.8)\n",
            "Requirement already satisfied: packaging>=20.0 in /usr/local/lib/python3.11/dist-packages (from matplotlib->catboost) (24.2)\n",
            "Requirement already satisfied: pillow>=8 in /usr/local/lib/python3.11/dist-packages (from matplotlib->catboost) (11.2.1)\n",
            "Requirement already satisfied: pyparsing>=2.3.1 in /usr/local/lib/python3.11/dist-packages (from matplotlib->catboost) (3.2.3)\n",
            "Requirement already satisfied: tenacity>=6.2.0 in /usr/local/lib/python3.11/dist-packages (from plotly->catboost) (9.1.2)\n",
            "Downloading catboost-1.2.8-cp311-cp311-manylinux2014_x86_64.whl (99.2 MB)\n",
            "\u001b[2K   \u001b[90m━━━━━━━━━━━━━━━━━━━━━━━━━━━━━━━━━━━━━━━━\u001b[0m \u001b[32m99.2/99.2 MB\u001b[0m \u001b[31m8.5 MB/s\u001b[0m eta \u001b[36m0:00:00\u001b[0m\n",
            "\u001b[?25hInstalling collected packages: catboost\n",
            "Successfully installed catboost-1.2.8\n"
          ]
        }
      ]
    },
    {
      "cell_type": "code",
      "execution_count": null,
      "metadata": {
        "colab": {
          "base_uri": "https://localhost:8080/"
        },
        "id": "jnV2Z8_aIo85",
        "outputId": "dce3999d-7afb-4c9a-f2f1-2be451caa038"
      },
      "outputs": [
        {
          "output_type": "stream",
          "name": "stdout",
          "text": [
            "Collecting category_encoders\n",
            "  Downloading category_encoders-2.8.1-py3-none-any.whl.metadata (7.9 kB)\n",
            "Requirement already satisfied: numpy>=1.14.0 in /usr/local/lib/python3.11/dist-packages (from category_encoders) (2.0.2)\n",
            "Requirement already satisfied: pandas>=1.0.5 in /usr/local/lib/python3.11/dist-packages (from category_encoders) (2.2.2)\n",
            "Requirement already satisfied: patsy>=0.5.1 in /usr/local/lib/python3.11/dist-packages (from category_encoders) (1.0.1)\n",
            "Requirement already satisfied: scikit-learn>=1.6.0 in /usr/local/lib/python3.11/dist-packages (from category_encoders) (1.6.1)\n",
            "Requirement already satisfied: scipy>=1.0.0 in /usr/local/lib/python3.11/dist-packages (from category_encoders) (1.15.3)\n",
            "Requirement already satisfied: statsmodels>=0.9.0 in /usr/local/lib/python3.11/dist-packages (from category_encoders) (0.14.4)\n",
            "Requirement already satisfied: python-dateutil>=2.8.2 in /usr/local/lib/python3.11/dist-packages (from pandas>=1.0.5->category_encoders) (2.9.0.post0)\n",
            "Requirement already satisfied: pytz>=2020.1 in /usr/local/lib/python3.11/dist-packages (from pandas>=1.0.5->category_encoders) (2025.2)\n",
            "Requirement already satisfied: tzdata>=2022.7 in /usr/local/lib/python3.11/dist-packages (from pandas>=1.0.5->category_encoders) (2025.2)\n",
            "Requirement already satisfied: joblib>=1.2.0 in /usr/local/lib/python3.11/dist-packages (from scikit-learn>=1.6.0->category_encoders) (1.5.0)\n",
            "Requirement already satisfied: threadpoolctl>=3.1.0 in /usr/local/lib/python3.11/dist-packages (from scikit-learn>=1.6.0->category_encoders) (3.6.0)\n",
            "Requirement already satisfied: packaging>=21.3 in /usr/local/lib/python3.11/dist-packages (from statsmodels>=0.9.0->category_encoders) (24.2)\n",
            "Requirement already satisfied: six>=1.5 in /usr/local/lib/python3.11/dist-packages (from python-dateutil>=2.8.2->pandas>=1.0.5->category_encoders) (1.17.0)\n",
            "Downloading category_encoders-2.8.1-py3-none-any.whl (85 kB)\n",
            "\u001b[2K   \u001b[90m━━━━━━━━━━━━━━━━━━━━━━━━━━━━━━━━━━━━━━━━\u001b[0m \u001b[32m85.7/85.7 kB\u001b[0m \u001b[31m3.1 MB/s\u001b[0m eta \u001b[36m0:00:00\u001b[0m\n",
            "\u001b[?25hInstalling collected packages: category_encoders\n",
            "Successfully installed category_encoders-2.8.1\n"
          ]
        }
      ],
      "source": [
        "pip install category_encoders\n"
      ]
    },
    {
      "cell_type": "code",
      "source": [
        "!pip install optuna"
      ],
      "metadata": {
        "colab": {
          "base_uri": "https://localhost:8080/"
        },
        "id": "7z-nLR1nMKNO",
        "outputId": "66d0acfa-d17f-47fc-eebd-edc7af62bf4c"
      },
      "execution_count": null,
      "outputs": [
        {
          "output_type": "stream",
          "name": "stdout",
          "text": [
            "Collecting optuna\n",
            "  Downloading optuna-4.3.0-py3-none-any.whl.metadata (17 kB)\n",
            "Collecting alembic>=1.5.0 (from optuna)\n",
            "  Downloading alembic-1.16.1-py3-none-any.whl.metadata (7.3 kB)\n",
            "Collecting colorlog (from optuna)\n",
            "  Downloading colorlog-6.9.0-py3-none-any.whl.metadata (10 kB)\n",
            "Requirement already satisfied: numpy in /usr/local/lib/python3.11/dist-packages (from optuna) (2.0.2)\n",
            "Requirement already satisfied: packaging>=20.0 in /usr/local/lib/python3.11/dist-packages (from optuna) (24.2)\n",
            "Requirement already satisfied: sqlalchemy>=1.4.2 in /usr/local/lib/python3.11/dist-packages (from optuna) (2.0.41)\n",
            "Requirement already satisfied: tqdm in /usr/local/lib/python3.11/dist-packages (from optuna) (4.67.1)\n",
            "Requirement already satisfied: PyYAML in /usr/local/lib/python3.11/dist-packages (from optuna) (6.0.2)\n",
            "Requirement already satisfied: Mako in /usr/lib/python3/dist-packages (from alembic>=1.5.0->optuna) (1.1.3)\n",
            "Requirement already satisfied: typing-extensions>=4.12 in /usr/local/lib/python3.11/dist-packages (from alembic>=1.5.0->optuna) (4.13.2)\n",
            "Requirement already satisfied: greenlet>=1 in /usr/local/lib/python3.11/dist-packages (from sqlalchemy>=1.4.2->optuna) (3.2.2)\n",
            "Downloading optuna-4.3.0-py3-none-any.whl (386 kB)\n",
            "\u001b[2K   \u001b[90m━━━━━━━━━━━━━━━━━━━━━━━━━━━━━━━━━━━━━━━━\u001b[0m \u001b[32m386.6/386.6 kB\u001b[0m \u001b[31m7.4 MB/s\u001b[0m eta \u001b[36m0:00:00\u001b[0m\n",
            "\u001b[?25hDownloading alembic-1.16.1-py3-none-any.whl (242 kB)\n",
            "\u001b[2K   \u001b[90m━━━━━━━━━━━━━━━━━━━━━━━━━━━━━━━━━━━━━━━━\u001b[0m \u001b[32m242.5/242.5 kB\u001b[0m \u001b[31m8.5 MB/s\u001b[0m eta \u001b[36m0:00:00\u001b[0m\n",
            "\u001b[?25hDownloading colorlog-6.9.0-py3-none-any.whl (11 kB)\n",
            "Installing collected packages: colorlog, alembic, optuna\n",
            "Successfully installed alembic-1.16.1 colorlog-6.9.0 optuna-4.3.0\n"
          ]
        }
      ]
    },
    {
      "cell_type": "markdown",
      "source": [
        "# Load data\n"
      ],
      "metadata": {
        "id": "m8Y2XJ2_Tdy5"
      }
    },
    {
      "cell_type": "code",
      "source": [
        "import pandas as pd\n",
        "import numpy as np\n",
        "from sklearn.model_selection import train_test_split\n",
        "from sklearn.impute import SimpleImputer\n",
        "from sklearn.metrics import roc_auc_score\n",
        "from sklearn.preprocessing import LabelEncoder\n",
        "from catboost import CatBoostClassifier\n",
        "from lightgbm import LGBMClassifier\n",
        "import optuna\n",
        "\n",
        "\n",
        "train_df = pd.read_csv('/content/training_dataset.csv')\n",
        "val_df = pd.read_csv('/content/validation_set.csv')"
      ],
      "metadata": {
        "id": "ZCBo_HQfUSe2"
      },
      "execution_count": null,
      "outputs": []
    },
    {
      "cell_type": "markdown",
      "source": [
        "\n",
        "\n",
        "# Pisahkan fitur dan target\n"
      ],
      "metadata": {
        "id": "MhB9qt4mUULF"
      }
    },
    {
      "cell_type": "code",
      "source": [
        "X_all = train_df.drop(columns=['berlangganan_deposito'])\n",
        "y = train_df['berlangganan_deposito']\n",
        "X_val_all = val_df.copy()"
      ],
      "metadata": {
        "id": "I0LqYWTuUWww"
      },
      "execution_count": null,
      "outputs": []
    },
    {
      "cell_type": "markdown",
      "source": [
        "\n",
        "# Deteksi kolom numerik dan kategorikal"
      ],
      "metadata": {
        "id": "iTIwqcTyUY6R"
      }
    },
    {
      "cell_type": "code",
      "source": [
        "\n",
        "num_cols = X_all.select_dtypes(include=['int64', 'float64']).columns\n",
        "cat_cols = X_all.select_dtypes(include=['object']).columns"
      ],
      "metadata": {
        "id": "fu9YgqFeUaoV"
      },
      "execution_count": null,
      "outputs": []
    },
    {
      "cell_type": "markdown",
      "source": [
        "# Imputasi nilai kosong"
      ],
      "metadata": {
        "id": "BAhGDBKXUcET"
      }
    },
    {
      "cell_type": "code",
      "source": [
        "\n",
        "num_imputer = SimpleImputer(strategy='median')\n",
        "cat_imputer = SimpleImputer(strategy='most_frequent')\n",
        "\n",
        "X_all[num_cols] = num_imputer.fit_transform(X_all[num_cols])\n",
        "X_val_all[num_cols] = num_imputer.transform(X_val_all[num_cols])\n",
        "\n",
        "X_all[cat_cols] = cat_imputer.fit_transform(X_all[cat_cols])\n",
        "X_val_all[cat_cols] = cat_imputer.transform(X_val_all[cat_cols])"
      ],
      "metadata": {
        "id": "sXhd5QOLUd9p"
      },
      "execution_count": null,
      "outputs": []
    },
    {
      "cell_type": "markdown",
      "source": [
        "\n",
        "\n",
        "# Label encoding"
      ],
      "metadata": {
        "id": "tP0JfRxoUfi7"
      }
    },
    {
      "cell_type": "code",
      "source": [
        "\n",
        "for col in cat_cols:\n",
        "    le = LabelEncoder()\n",
        "    X_all[col] = le.fit_transform(X_all[col].astype(str))\n",
        "    X_val_all[col] = le.transform(X_val_all[col].astype(str))\n",
        "\n",
        "# Split untuk validasi Optuna\n",
        "X_train, X_valid, y_train, y_valid = train_test_split(\n",
        "    X_all, y, test_size=0.2, stratify=y, random_state=42\n",
        ")"
      ],
      "metadata": {
        "id": "vPv4hjwYUiKV"
      },
      "execution_count": null,
      "outputs": []
    },
    {
      "cell_type": "markdown",
      "source": [
        "\n",
        "# Tuning CatBoost dengan Optuna"
      ],
      "metadata": {
        "id": "kzrWcNMvUjj4"
      }
    },
    {
      "cell_type": "code",
      "source": [
        "def objective(trial):\n",
        "    params = {\n",
        "        'iterations': 2000,\n",
        "        'learning_rate': trial.suggest_float('learning_rate', 0.005, 0.05),\n",
        "        'depth': trial.suggest_int('depth', 4, 10),\n",
        "        'l2_leaf_reg': trial.suggest_float('l2_leaf_reg', 1.0, 10.0),\n",
        "        'bootstrap_type': 'Bayesian',\n",
        "        'eval_metric': 'AUC',\n",
        "        'random_seed': 42,\n",
        "        'od_wait': 100,\n",
        "        'verbose': 0\n",
        "    }\n",
        "\n",
        "    model = CatBoostClassifier(**params)\n",
        "    model.fit(X_train, y_train, eval_set=(X_valid, y_valid),\n",
        "              early_stopping_rounds=200, use_best_model=True)\n",
        "    preds = model.predict_proba(X_valid)[:, 1]\n",
        "    return roc_auc_score(y_valid, preds)\n"
      ],
      "metadata": {
        "id": "Ark-JbQvUl-F"
      },
      "execution_count": null,
      "outputs": []
    },
    {
      "cell_type": "markdown",
      "source": [
        "\n",
        "# Jalankan tuning"
      ],
      "metadata": {
        "id": "mOFeH2BbUpbF"
      }
    },
    {
      "cell_type": "code",
      "source": [
        "\n",
        "study = optuna.create_study(direction='maximize')\n",
        "study.optimize(objective, n_trials=30)"
      ],
      "metadata": {
        "colab": {
          "base_uri": "https://localhost:8080/"
        },
        "id": "txAJwOJoUuy2",
        "outputId": "2bfad67a-ad2e-4d8c-de12-4f9a1a1583be"
      },
      "execution_count": null,
      "outputs": [
        {
          "output_type": "stream",
          "name": "stderr",
          "text": [
            "[I 2025-05-29 09:17:09,010] A new study created in memory with name: no-name-e8af75af-2716-4be3-b203-8d86a19252f6\n",
            "[I 2025-05-29 09:17:19,911] Trial 0 finished with value: 0.7944312899412073 and parameters: {'learning_rate': 0.01549791767321643, 'depth': 5, 'l2_leaf_reg': 1.4114052596040607}. Best is trial 0 with value: 0.7944312899412073.\n",
            "[I 2025-05-29 09:17:30,462] Trial 1 finished with value: 0.7959760874201882 and parameters: {'learning_rate': 0.04187927378471162, 'depth': 8, 'l2_leaf_reg': 9.790642383328933}. Best is trial 1 with value: 0.7959760874201882.\n",
            "[I 2025-05-29 09:17:42,303] Trial 2 finished with value: 0.7933512029504172 and parameters: {'learning_rate': 0.01995926444428947, 'depth': 9, 'l2_leaf_reg': 5.997476731197827}. Best is trial 1 with value: 0.7959760874201882.\n",
            "[I 2025-05-29 09:17:46,209] Trial 3 finished with value: 0.7922117912164539 and parameters: {'learning_rate': 0.032097396168119505, 'depth': 5, 'l2_leaf_reg': 6.836488647536591}. Best is trial 1 with value: 0.7959760874201882.\n",
            "[I 2025-05-29 09:17:49,794] Trial 4 finished with value: 0.7944529481807785 and parameters: {'learning_rate': 0.034336352527553904, 'depth': 5, 'l2_leaf_reg': 4.921518113140587}. Best is trial 1 with value: 0.7959760874201882.\n",
            "[I 2025-05-29 09:18:01,213] Trial 5 finished with value: 0.7933182447597654 and parameters: {'learning_rate': 0.020022123220856152, 'depth': 7, 'l2_leaf_reg': 1.8839536052796473}. Best is trial 1 with value: 0.7959760874201882.\n",
            "[I 2025-05-29 09:18:27,947] Trial 6 finished with value: 0.7936445308472185 and parameters: {'learning_rate': 0.026947999274744183, 'depth': 10, 'l2_leaf_reg': 5.984609061554714}. Best is trial 1 with value: 0.7959760874201882.\n",
            "[I 2025-05-29 09:18:34,364] Trial 7 finished with value: 0.7931162581341992 and parameters: {'learning_rate': 0.048971491346630244, 'depth': 8, 'l2_leaf_reg': 8.472273028567479}. Best is trial 1 with value: 0.7959760874201882.\n",
            "[I 2025-05-29 09:18:41,105] Trial 8 finished with value: 0.7953922566143556 and parameters: {'learning_rate': 0.047326988092868, 'depth': 5, 'l2_leaf_reg': 4.9136103640044535}. Best is trial 1 with value: 0.7959760874201882.\n",
            "[I 2025-05-29 09:18:45,503] Trial 9 finished with value: 0.7926218852744217 and parameters: {'learning_rate': 0.021225462004194222, 'depth': 7, 'l2_leaf_reg': 1.6562919236230997}. Best is trial 1 with value: 0.7959760874201882.\n",
            "[I 2025-05-29 09:19:08,532] Trial 10 finished with value: 0.7943644318973136 and parameters: {'learning_rate': 0.006024830420995823, 'depth': 8, 'l2_leaf_reg': 9.741940035753483}. Best is trial 1 with value: 0.7959760874201882.\n",
            "[I 2025-05-29 09:19:16,627] Trial 11 finished with value: 0.794947791871851 and parameters: {'learning_rate': 0.04983886990951844, 'depth': 4, 'l2_leaf_reg': 4.36035291667189}. Best is trial 1 with value: 0.7959760874201882.\n",
            "[I 2025-05-29 09:19:22,682] Trial 12 finished with value: 0.7941134788170646 and parameters: {'learning_rate': 0.04093978659572355, 'depth': 6, 'l2_leaf_reg': 3.5750071330946374}. Best is trial 1 with value: 0.7959760874201882.\n",
            "[I 2025-05-29 09:19:28,061] Trial 13 finished with value: 0.7925246586119988 and parameters: {'learning_rate': 0.042065080410499965, 'depth': 8, 'l2_leaf_reg': 7.512746232491898}. Best is trial 1 with value: 0.7959760874201882.\n",
            "[I 2025-05-29 09:19:34,417] Trial 14 finished with value: 0.7949388460772455 and parameters: {'learning_rate': 0.04024916645478878, 'depth': 6, 'l2_leaf_reg': 9.940890417604837}. Best is trial 1 with value: 0.7959760874201882.\n",
            "[I 2025-05-29 09:19:38,078] Trial 15 finished with value: 0.7929858378654768 and parameters: {'learning_rate': 0.04557578535115849, 'depth': 4, 'l2_leaf_reg': 3.18924207942345}. Best is trial 1 with value: 0.7959760874201882.\n",
            "[I 2025-05-29 09:20:01,075] Trial 16 finished with value: 0.7929119173521577 and parameters: {'learning_rate': 0.03584490517606028, 'depth': 10, 'l2_leaf_reg': 8.019912419778922}. Best is trial 1 with value: 0.7959760874201882.\n",
            "[I 2025-05-29 09:20:05,328] Trial 17 finished with value: 0.7922466327322859 and parameters: {'learning_rate': 0.04427314478347967, 'depth': 7, 'l2_leaf_reg': 3.1321621506902804}. Best is trial 1 with value: 0.7959760874201882.\n",
            "[I 2025-05-29 09:20:20,004] Trial 18 finished with value: 0.7931426246867206 and parameters: {'learning_rate': 0.036162757999925854, 'depth': 9, 'l2_leaf_reg': 8.810633438551552}. Best is trial 1 with value: 0.7959760874201882.\n",
            "[I 2025-05-29 09:20:29,527] Trial 19 finished with value: 0.7943997442444406 and parameters: {'learning_rate': 0.02893702349597204, 'depth': 6, 'l2_leaf_reg': 6.8243148041159305}. Best is trial 1 with value: 0.7959760874201882.\n",
            "[I 2025-05-29 09:20:46,138] Trial 20 finished with value: 0.7935541312385734 and parameters: {'learning_rate': 0.04683915830067165, 'depth': 9, 'l2_leaf_reg': 4.990347185129}. Best is trial 1 with value: 0.7959760874201882.\n",
            "[I 2025-05-29 09:20:49,782] Trial 21 finished with value: 0.7938841839763868 and parameters: {'learning_rate': 0.049897945861433556, 'depth': 4, 'l2_leaf_reg': 4.392981385015929}. Best is trial 1 with value: 0.7959760874201882.\n",
            "[I 2025-05-29 09:20:52,546] Trial 22 finished with value: 0.7922355681968527 and parameters: {'learning_rate': 0.040157490663023966, 'depth': 4, 'l2_leaf_reg': 4.133790974318134}. Best is trial 1 with value: 0.7959760874201882.\n",
            "[I 2025-05-29 09:20:58,757] Trial 23 finished with value: 0.7946102058333171 and parameters: {'learning_rate': 0.045203991867992545, 'depth': 5, 'l2_leaf_reg': 2.444448018828149}. Best is trial 1 with value: 0.7959760874201882.\n",
            "[I 2025-05-29 09:21:03,632] Trial 24 finished with value: 0.7931350913860002 and parameters: {'learning_rate': 0.04992157803415275, 'depth': 4, 'l2_leaf_reg': 5.2353079062071375}. Best is trial 1 with value: 0.7959760874201882.\n",
            "[I 2025-05-29 09:21:08,200] Trial 25 finished with value: 0.7942410740980167 and parameters: {'learning_rate': 0.03833387483750335, 'depth': 6, 'l2_leaf_reg': 6.1037147225525805}. Best is trial 1 with value: 0.7959760874201882.\n",
            "[I 2025-05-29 09:21:15,654] Trial 26 finished with value: 0.7948847004783175 and parameters: {'learning_rate': 0.043272884418560975, 'depth': 5, 'l2_leaf_reg': 4.4390784725527945}. Best is trial 1 with value: 0.7959760874201882.\n",
            "[I 2025-05-29 09:21:19,224] Trial 27 finished with value: 0.7940951163965586 and parameters: {'learning_rate': 0.04676532960142307, 'depth': 4, 'l2_leaf_reg': 3.80079979038311}. Best is trial 1 with value: 0.7959760874201882.\n",
            "[I 2025-05-29 09:21:26,366] Trial 28 finished with value: 0.7935668436835394 and parameters: {'learning_rate': 0.031327880864825505, 'depth': 7, 'l2_leaf_reg': 2.436133630397599}. Best is trial 1 with value: 0.7959760874201882.\n",
            "[I 2025-05-29 09:21:30,389] Trial 29 finished with value: 0.79416503484387 and parameters: {'learning_rate': 0.04756690140747958, 'depth': 5, 'l2_leaf_reg': 6.831840696661187}. Best is trial 1 with value: 0.7959760874201882.\n"
          ]
        }
      ]
    },
    {
      "cell_type": "markdown",
      "source": [
        "\n",
        "\n",
        "# Ambil parameter terbaik"
      ],
      "metadata": {
        "id": "s--FB0gAUwBv"
      }
    },
    {
      "cell_type": "code",
      "source": [
        "\n",
        "best_params = study.best_params\n",
        "print(\"✅ Best CatBoost params:\", best_params)"
      ],
      "metadata": {
        "colab": {
          "base_uri": "https://localhost:8080/"
        },
        "id": "W8ZCZ1teU0GI",
        "outputId": "676c0646-5fb0-43c7-84e4-6637f205cf53"
      },
      "execution_count": null,
      "outputs": [
        {
          "output_type": "stream",
          "name": "stdout",
          "text": [
            "✅ Best CatBoost params: {'learning_rate': 0.04187927378471162, 'depth': 8, 'l2_leaf_reg': 9.790642383328933}\n"
          ]
        }
      ]
    },
    {
      "cell_type": "markdown",
      "source": [
        "\n",
        "\n",
        "# Latih ulang model CatBoost dengan parameter terbaik"
      ],
      "metadata": {
        "id": "xjaGIgpZU1c1"
      }
    },
    {
      "cell_type": "code",
      "source": [
        "cat_model = CatBoostClassifier(\n",
        "    iterations=2000,\n",
        "    learning_rate=best_params['learning_rate'],\n",
        "    depth=best_params['depth'],\n",
        "    l2_leaf_reg=best_params['l2_leaf_reg'],\n",
        "    bootstrap_type='Bayesian',\n",
        "    eval_metric='AUC',\n",
        "    random_seed=42,\n",
        "    od_wait=100,\n",
        "    verbose=100\n",
        ")\n",
        "cat_model.fit(X_all, y)"
      ],
      "metadata": {
        "colab": {
          "base_uri": "https://localhost:8080/"
        },
        "id": "VPSGwrn3U3KS",
        "outputId": "0d8dbee5-d465-49c4-a3b3-51e7edd98d37"
      },
      "execution_count": null,
      "outputs": [
        {
          "output_type": "stream",
          "name": "stdout",
          "text": [
            "0:\ttotal: 18.7ms\tremaining: 37.3s\n",
            "100:\ttotal: 1.85s\tremaining: 34.8s\n",
            "200:\ttotal: 3.72s\tremaining: 33.3s\n",
            "300:\ttotal: 6.25s\tremaining: 35.3s\n",
            "400:\ttotal: 9.94s\tremaining: 39.7s\n",
            "500:\ttotal: 11.8s\tremaining: 35.4s\n",
            "600:\ttotal: 13.7s\tremaining: 31.9s\n",
            "700:\ttotal: 15.5s\tremaining: 28.8s\n",
            "800:\ttotal: 17.4s\tremaining: 26.1s\n",
            "900:\ttotal: 19.7s\tremaining: 24s\n",
            "1000:\ttotal: 23.7s\tremaining: 23.7s\n",
            "1100:\ttotal: 25.6s\tremaining: 20.9s\n",
            "1200:\ttotal: 27.5s\tremaining: 18.3s\n",
            "1300:\ttotal: 29.4s\tremaining: 15.8s\n",
            "1400:\ttotal: 31.3s\tremaining: 13.4s\n",
            "1500:\ttotal: 33.3s\tremaining: 11.1s\n",
            "1600:\ttotal: 37.5s\tremaining: 9.35s\n",
            "1700:\ttotal: 39.5s\tremaining: 6.94s\n",
            "1800:\ttotal: 41.4s\tremaining: 4.58s\n",
            "1900:\ttotal: 43.4s\tremaining: 2.26s\n",
            "1999:\ttotal: 45.3s\tremaining: 0us\n"
          ]
        },
        {
          "output_type": "execute_result",
          "data": {
            "text/plain": [
              "<catboost.core.CatBoostClassifier at 0x7dcb08364b50>"
            ]
          },
          "metadata": {},
          "execution_count": 33
        }
      ]
    },
    {
      "cell_type": "markdown",
      "source": [
        "# Latih model LightGBM"
      ],
      "metadata": {
        "id": "2IOoF36SU479"
      }
    },
    {
      "cell_type": "code",
      "source": [
        "lgb_model = LGBMClassifier(\n",
        "    n_estimators=2000,\n",
        "    learning_rate=0.01,\n",
        "    num_leaves=64,\n",
        "    reg_alpha=1.0,\n",
        "    reg_lambda=1.0,\n",
        "    subsample=0.8,\n",
        "    colsample_bytree=0.8,\n",
        "    random_state=42\n",
        ")\n",
        "lgb_model.fit(X_all, y)"
      ],
      "metadata": {
        "colab": {
          "base_uri": "https://localhost:8080/",
          "height": 273
        },
        "id": "GfpCoASlU6nf",
        "outputId": "2071e926-f49d-4a93-96ce-08ec0016a0ac"
      },
      "execution_count": null,
      "outputs": [
        {
          "output_type": "stream",
          "name": "stdout",
          "text": [
            "[LightGBM] [Info] Number of positive: 2614, number of negative: 20302\n",
            "[LightGBM] [Info] Auto-choosing row-wise multi-threading, the overhead of testing was 0.003962 seconds.\n",
            "You can set `force_row_wise=true` to remove the overhead.\n",
            "And if memory is not enough, you can set `force_col_wise=true`.\n",
            "[LightGBM] [Info] Total Bins 726\n",
            "[LightGBM] [Info] Number of data points in the train set: 22916, number of used features: 21\n",
            "[LightGBM] [Info] [binary:BoostFromScore]: pavg=0.114069 -> initscore=-2.049838\n",
            "[LightGBM] [Info] Start training from score -2.049838\n"
          ]
        },
        {
          "output_type": "execute_result",
          "data": {
            "text/plain": [
              "LGBMClassifier(colsample_bytree=0.8, learning_rate=0.01, n_estimators=2000,\n",
              "               num_leaves=64, random_state=42, reg_alpha=1.0, reg_lambda=1.0,\n",
              "               subsample=0.8)"
            ],
            "text/html": [
              "<style>#sk-container-id-1 {\n",
              "  /* Definition of color scheme common for light and dark mode */\n",
              "  --sklearn-color-text: #000;\n",
              "  --sklearn-color-text-muted: #666;\n",
              "  --sklearn-color-line: gray;\n",
              "  /* Definition of color scheme for unfitted estimators */\n",
              "  --sklearn-color-unfitted-level-0: #fff5e6;\n",
              "  --sklearn-color-unfitted-level-1: #f6e4d2;\n",
              "  --sklearn-color-unfitted-level-2: #ffe0b3;\n",
              "  --sklearn-color-unfitted-level-3: chocolate;\n",
              "  /* Definition of color scheme for fitted estimators */\n",
              "  --sklearn-color-fitted-level-0: #f0f8ff;\n",
              "  --sklearn-color-fitted-level-1: #d4ebff;\n",
              "  --sklearn-color-fitted-level-2: #b3dbfd;\n",
              "  --sklearn-color-fitted-level-3: cornflowerblue;\n",
              "\n",
              "  /* Specific color for light theme */\n",
              "  --sklearn-color-text-on-default-background: var(--sg-text-color, var(--theme-code-foreground, var(--jp-content-font-color1, black)));\n",
              "  --sklearn-color-background: var(--sg-background-color, var(--theme-background, var(--jp-layout-color0, white)));\n",
              "  --sklearn-color-border-box: var(--sg-text-color, var(--theme-code-foreground, var(--jp-content-font-color1, black)));\n",
              "  --sklearn-color-icon: #696969;\n",
              "\n",
              "  @media (prefers-color-scheme: dark) {\n",
              "    /* Redefinition of color scheme for dark theme */\n",
              "    --sklearn-color-text-on-default-background: var(--sg-text-color, var(--theme-code-foreground, var(--jp-content-font-color1, white)));\n",
              "    --sklearn-color-background: var(--sg-background-color, var(--theme-background, var(--jp-layout-color0, #111)));\n",
              "    --sklearn-color-border-box: var(--sg-text-color, var(--theme-code-foreground, var(--jp-content-font-color1, white)));\n",
              "    --sklearn-color-icon: #878787;\n",
              "  }\n",
              "}\n",
              "\n",
              "#sk-container-id-1 {\n",
              "  color: var(--sklearn-color-text);\n",
              "}\n",
              "\n",
              "#sk-container-id-1 pre {\n",
              "  padding: 0;\n",
              "}\n",
              "\n",
              "#sk-container-id-1 input.sk-hidden--visually {\n",
              "  border: 0;\n",
              "  clip: rect(1px 1px 1px 1px);\n",
              "  clip: rect(1px, 1px, 1px, 1px);\n",
              "  height: 1px;\n",
              "  margin: -1px;\n",
              "  overflow: hidden;\n",
              "  padding: 0;\n",
              "  position: absolute;\n",
              "  width: 1px;\n",
              "}\n",
              "\n",
              "#sk-container-id-1 div.sk-dashed-wrapped {\n",
              "  border: 1px dashed var(--sklearn-color-line);\n",
              "  margin: 0 0.4em 0.5em 0.4em;\n",
              "  box-sizing: border-box;\n",
              "  padding-bottom: 0.4em;\n",
              "  background-color: var(--sklearn-color-background);\n",
              "}\n",
              "\n",
              "#sk-container-id-1 div.sk-container {\n",
              "  /* jupyter's `normalize.less` sets `[hidden] { display: none; }`\n",
              "     but bootstrap.min.css set `[hidden] { display: none !important; }`\n",
              "     so we also need the `!important` here to be able to override the\n",
              "     default hidden behavior on the sphinx rendered scikit-learn.org.\n",
              "     See: https://github.com/scikit-learn/scikit-learn/issues/21755 */\n",
              "  display: inline-block !important;\n",
              "  position: relative;\n",
              "}\n",
              "\n",
              "#sk-container-id-1 div.sk-text-repr-fallback {\n",
              "  display: none;\n",
              "}\n",
              "\n",
              "div.sk-parallel-item,\n",
              "div.sk-serial,\n",
              "div.sk-item {\n",
              "  /* draw centered vertical line to link estimators */\n",
              "  background-image: linear-gradient(var(--sklearn-color-text-on-default-background), var(--sklearn-color-text-on-default-background));\n",
              "  background-size: 2px 100%;\n",
              "  background-repeat: no-repeat;\n",
              "  background-position: center center;\n",
              "}\n",
              "\n",
              "/* Parallel-specific style estimator block */\n",
              "\n",
              "#sk-container-id-1 div.sk-parallel-item::after {\n",
              "  content: \"\";\n",
              "  width: 100%;\n",
              "  border-bottom: 2px solid var(--sklearn-color-text-on-default-background);\n",
              "  flex-grow: 1;\n",
              "}\n",
              "\n",
              "#sk-container-id-1 div.sk-parallel {\n",
              "  display: flex;\n",
              "  align-items: stretch;\n",
              "  justify-content: center;\n",
              "  background-color: var(--sklearn-color-background);\n",
              "  position: relative;\n",
              "}\n",
              "\n",
              "#sk-container-id-1 div.sk-parallel-item {\n",
              "  display: flex;\n",
              "  flex-direction: column;\n",
              "}\n",
              "\n",
              "#sk-container-id-1 div.sk-parallel-item:first-child::after {\n",
              "  align-self: flex-end;\n",
              "  width: 50%;\n",
              "}\n",
              "\n",
              "#sk-container-id-1 div.sk-parallel-item:last-child::after {\n",
              "  align-self: flex-start;\n",
              "  width: 50%;\n",
              "}\n",
              "\n",
              "#sk-container-id-1 div.sk-parallel-item:only-child::after {\n",
              "  width: 0;\n",
              "}\n",
              "\n",
              "/* Serial-specific style estimator block */\n",
              "\n",
              "#sk-container-id-1 div.sk-serial {\n",
              "  display: flex;\n",
              "  flex-direction: column;\n",
              "  align-items: center;\n",
              "  background-color: var(--sklearn-color-background);\n",
              "  padding-right: 1em;\n",
              "  padding-left: 1em;\n",
              "}\n",
              "\n",
              "\n",
              "/* Toggleable style: style used for estimator/Pipeline/ColumnTransformer box that is\n",
              "clickable and can be expanded/collapsed.\n",
              "- Pipeline and ColumnTransformer use this feature and define the default style\n",
              "- Estimators will overwrite some part of the style using the `sk-estimator` class\n",
              "*/\n",
              "\n",
              "/* Pipeline and ColumnTransformer style (default) */\n",
              "\n",
              "#sk-container-id-1 div.sk-toggleable {\n",
              "  /* Default theme specific background. It is overwritten whether we have a\n",
              "  specific estimator or a Pipeline/ColumnTransformer */\n",
              "  background-color: var(--sklearn-color-background);\n",
              "}\n",
              "\n",
              "/* Toggleable label */\n",
              "#sk-container-id-1 label.sk-toggleable__label {\n",
              "  cursor: pointer;\n",
              "  display: flex;\n",
              "  width: 100%;\n",
              "  margin-bottom: 0;\n",
              "  padding: 0.5em;\n",
              "  box-sizing: border-box;\n",
              "  text-align: center;\n",
              "  align-items: start;\n",
              "  justify-content: space-between;\n",
              "  gap: 0.5em;\n",
              "}\n",
              "\n",
              "#sk-container-id-1 label.sk-toggleable__label .caption {\n",
              "  font-size: 0.6rem;\n",
              "  font-weight: lighter;\n",
              "  color: var(--sklearn-color-text-muted);\n",
              "}\n",
              "\n",
              "#sk-container-id-1 label.sk-toggleable__label-arrow:before {\n",
              "  /* Arrow on the left of the label */\n",
              "  content: \"▸\";\n",
              "  float: left;\n",
              "  margin-right: 0.25em;\n",
              "  color: var(--sklearn-color-icon);\n",
              "}\n",
              "\n",
              "#sk-container-id-1 label.sk-toggleable__label-arrow:hover:before {\n",
              "  color: var(--sklearn-color-text);\n",
              "}\n",
              "\n",
              "/* Toggleable content - dropdown */\n",
              "\n",
              "#sk-container-id-1 div.sk-toggleable__content {\n",
              "  max-height: 0;\n",
              "  max-width: 0;\n",
              "  overflow: hidden;\n",
              "  text-align: left;\n",
              "  /* unfitted */\n",
              "  background-color: var(--sklearn-color-unfitted-level-0);\n",
              "}\n",
              "\n",
              "#sk-container-id-1 div.sk-toggleable__content.fitted {\n",
              "  /* fitted */\n",
              "  background-color: var(--sklearn-color-fitted-level-0);\n",
              "}\n",
              "\n",
              "#sk-container-id-1 div.sk-toggleable__content pre {\n",
              "  margin: 0.2em;\n",
              "  border-radius: 0.25em;\n",
              "  color: var(--sklearn-color-text);\n",
              "  /* unfitted */\n",
              "  background-color: var(--sklearn-color-unfitted-level-0);\n",
              "}\n",
              "\n",
              "#sk-container-id-1 div.sk-toggleable__content.fitted pre {\n",
              "  /* unfitted */\n",
              "  background-color: var(--sklearn-color-fitted-level-0);\n",
              "}\n",
              "\n",
              "#sk-container-id-1 input.sk-toggleable__control:checked~div.sk-toggleable__content {\n",
              "  /* Expand drop-down */\n",
              "  max-height: 200px;\n",
              "  max-width: 100%;\n",
              "  overflow: auto;\n",
              "}\n",
              "\n",
              "#sk-container-id-1 input.sk-toggleable__control:checked~label.sk-toggleable__label-arrow:before {\n",
              "  content: \"▾\";\n",
              "}\n",
              "\n",
              "/* Pipeline/ColumnTransformer-specific style */\n",
              "\n",
              "#sk-container-id-1 div.sk-label input.sk-toggleable__control:checked~label.sk-toggleable__label {\n",
              "  color: var(--sklearn-color-text);\n",
              "  background-color: var(--sklearn-color-unfitted-level-2);\n",
              "}\n",
              "\n",
              "#sk-container-id-1 div.sk-label.fitted input.sk-toggleable__control:checked~label.sk-toggleable__label {\n",
              "  background-color: var(--sklearn-color-fitted-level-2);\n",
              "}\n",
              "\n",
              "/* Estimator-specific style */\n",
              "\n",
              "/* Colorize estimator box */\n",
              "#sk-container-id-1 div.sk-estimator input.sk-toggleable__control:checked~label.sk-toggleable__label {\n",
              "  /* unfitted */\n",
              "  background-color: var(--sklearn-color-unfitted-level-2);\n",
              "}\n",
              "\n",
              "#sk-container-id-1 div.sk-estimator.fitted input.sk-toggleable__control:checked~label.sk-toggleable__label {\n",
              "  /* fitted */\n",
              "  background-color: var(--sklearn-color-fitted-level-2);\n",
              "}\n",
              "\n",
              "#sk-container-id-1 div.sk-label label.sk-toggleable__label,\n",
              "#sk-container-id-1 div.sk-label label {\n",
              "  /* The background is the default theme color */\n",
              "  color: var(--sklearn-color-text-on-default-background);\n",
              "}\n",
              "\n",
              "/* On hover, darken the color of the background */\n",
              "#sk-container-id-1 div.sk-label:hover label.sk-toggleable__label {\n",
              "  color: var(--sklearn-color-text);\n",
              "  background-color: var(--sklearn-color-unfitted-level-2);\n",
              "}\n",
              "\n",
              "/* Label box, darken color on hover, fitted */\n",
              "#sk-container-id-1 div.sk-label.fitted:hover label.sk-toggleable__label.fitted {\n",
              "  color: var(--sklearn-color-text);\n",
              "  background-color: var(--sklearn-color-fitted-level-2);\n",
              "}\n",
              "\n",
              "/* Estimator label */\n",
              "\n",
              "#sk-container-id-1 div.sk-label label {\n",
              "  font-family: monospace;\n",
              "  font-weight: bold;\n",
              "  display: inline-block;\n",
              "  line-height: 1.2em;\n",
              "}\n",
              "\n",
              "#sk-container-id-1 div.sk-label-container {\n",
              "  text-align: center;\n",
              "}\n",
              "\n",
              "/* Estimator-specific */\n",
              "#sk-container-id-1 div.sk-estimator {\n",
              "  font-family: monospace;\n",
              "  border: 1px dotted var(--sklearn-color-border-box);\n",
              "  border-radius: 0.25em;\n",
              "  box-sizing: border-box;\n",
              "  margin-bottom: 0.5em;\n",
              "  /* unfitted */\n",
              "  background-color: var(--sklearn-color-unfitted-level-0);\n",
              "}\n",
              "\n",
              "#sk-container-id-1 div.sk-estimator.fitted {\n",
              "  /* fitted */\n",
              "  background-color: var(--sklearn-color-fitted-level-0);\n",
              "}\n",
              "\n",
              "/* on hover */\n",
              "#sk-container-id-1 div.sk-estimator:hover {\n",
              "  /* unfitted */\n",
              "  background-color: var(--sklearn-color-unfitted-level-2);\n",
              "}\n",
              "\n",
              "#sk-container-id-1 div.sk-estimator.fitted:hover {\n",
              "  /* fitted */\n",
              "  background-color: var(--sklearn-color-fitted-level-2);\n",
              "}\n",
              "\n",
              "/* Specification for estimator info (e.g. \"i\" and \"?\") */\n",
              "\n",
              "/* Common style for \"i\" and \"?\" */\n",
              "\n",
              ".sk-estimator-doc-link,\n",
              "a:link.sk-estimator-doc-link,\n",
              "a:visited.sk-estimator-doc-link {\n",
              "  float: right;\n",
              "  font-size: smaller;\n",
              "  line-height: 1em;\n",
              "  font-family: monospace;\n",
              "  background-color: var(--sklearn-color-background);\n",
              "  border-radius: 1em;\n",
              "  height: 1em;\n",
              "  width: 1em;\n",
              "  text-decoration: none !important;\n",
              "  margin-left: 0.5em;\n",
              "  text-align: center;\n",
              "  /* unfitted */\n",
              "  border: var(--sklearn-color-unfitted-level-1) 1pt solid;\n",
              "  color: var(--sklearn-color-unfitted-level-1);\n",
              "}\n",
              "\n",
              ".sk-estimator-doc-link.fitted,\n",
              "a:link.sk-estimator-doc-link.fitted,\n",
              "a:visited.sk-estimator-doc-link.fitted {\n",
              "  /* fitted */\n",
              "  border: var(--sklearn-color-fitted-level-1) 1pt solid;\n",
              "  color: var(--sklearn-color-fitted-level-1);\n",
              "}\n",
              "\n",
              "/* On hover */\n",
              "div.sk-estimator:hover .sk-estimator-doc-link:hover,\n",
              ".sk-estimator-doc-link:hover,\n",
              "div.sk-label-container:hover .sk-estimator-doc-link:hover,\n",
              ".sk-estimator-doc-link:hover {\n",
              "  /* unfitted */\n",
              "  background-color: var(--sklearn-color-unfitted-level-3);\n",
              "  color: var(--sklearn-color-background);\n",
              "  text-decoration: none;\n",
              "}\n",
              "\n",
              "div.sk-estimator.fitted:hover .sk-estimator-doc-link.fitted:hover,\n",
              ".sk-estimator-doc-link.fitted:hover,\n",
              "div.sk-label-container:hover .sk-estimator-doc-link.fitted:hover,\n",
              ".sk-estimator-doc-link.fitted:hover {\n",
              "  /* fitted */\n",
              "  background-color: var(--sklearn-color-fitted-level-3);\n",
              "  color: var(--sklearn-color-background);\n",
              "  text-decoration: none;\n",
              "}\n",
              "\n",
              "/* Span, style for the box shown on hovering the info icon */\n",
              ".sk-estimator-doc-link span {\n",
              "  display: none;\n",
              "  z-index: 9999;\n",
              "  position: relative;\n",
              "  font-weight: normal;\n",
              "  right: .2ex;\n",
              "  padding: .5ex;\n",
              "  margin: .5ex;\n",
              "  width: min-content;\n",
              "  min-width: 20ex;\n",
              "  max-width: 50ex;\n",
              "  color: var(--sklearn-color-text);\n",
              "  box-shadow: 2pt 2pt 4pt #999;\n",
              "  /* unfitted */\n",
              "  background: var(--sklearn-color-unfitted-level-0);\n",
              "  border: .5pt solid var(--sklearn-color-unfitted-level-3);\n",
              "}\n",
              "\n",
              ".sk-estimator-doc-link.fitted span {\n",
              "  /* fitted */\n",
              "  background: var(--sklearn-color-fitted-level-0);\n",
              "  border: var(--sklearn-color-fitted-level-3);\n",
              "}\n",
              "\n",
              ".sk-estimator-doc-link:hover span {\n",
              "  display: block;\n",
              "}\n",
              "\n",
              "/* \"?\"-specific style due to the `<a>` HTML tag */\n",
              "\n",
              "#sk-container-id-1 a.estimator_doc_link {\n",
              "  float: right;\n",
              "  font-size: 1rem;\n",
              "  line-height: 1em;\n",
              "  font-family: monospace;\n",
              "  background-color: var(--sklearn-color-background);\n",
              "  border-radius: 1rem;\n",
              "  height: 1rem;\n",
              "  width: 1rem;\n",
              "  text-decoration: none;\n",
              "  /* unfitted */\n",
              "  color: var(--sklearn-color-unfitted-level-1);\n",
              "  border: var(--sklearn-color-unfitted-level-1) 1pt solid;\n",
              "}\n",
              "\n",
              "#sk-container-id-1 a.estimator_doc_link.fitted {\n",
              "  /* fitted */\n",
              "  border: var(--sklearn-color-fitted-level-1) 1pt solid;\n",
              "  color: var(--sklearn-color-fitted-level-1);\n",
              "}\n",
              "\n",
              "/* On hover */\n",
              "#sk-container-id-1 a.estimator_doc_link:hover {\n",
              "  /* unfitted */\n",
              "  background-color: var(--sklearn-color-unfitted-level-3);\n",
              "  color: var(--sklearn-color-background);\n",
              "  text-decoration: none;\n",
              "}\n",
              "\n",
              "#sk-container-id-1 a.estimator_doc_link.fitted:hover {\n",
              "  /* fitted */\n",
              "  background-color: var(--sklearn-color-fitted-level-3);\n",
              "}\n",
              "</style><div id=\"sk-container-id-1\" class=\"sk-top-container\"><div class=\"sk-text-repr-fallback\"><pre>LGBMClassifier(colsample_bytree=0.8, learning_rate=0.01, n_estimators=2000,\n",
              "               num_leaves=64, random_state=42, reg_alpha=1.0, reg_lambda=1.0,\n",
              "               subsample=0.8)</pre><b>In a Jupyter environment, please rerun this cell to show the HTML representation or trust the notebook. <br />On GitHub, the HTML representation is unable to render, please try loading this page with nbviewer.org.</b></div><div class=\"sk-container\" hidden><div class=\"sk-item\"><div class=\"sk-estimator fitted sk-toggleable\"><input class=\"sk-toggleable__control sk-hidden--visually\" id=\"sk-estimator-id-1\" type=\"checkbox\" checked><label for=\"sk-estimator-id-1\" class=\"sk-toggleable__label fitted sk-toggleable__label-arrow\"><div><div>LGBMClassifier</div></div><div><span class=\"sk-estimator-doc-link fitted\">i<span>Fitted</span></span></div></label><div class=\"sk-toggleable__content fitted\"><pre>LGBMClassifier(colsample_bytree=0.8, learning_rate=0.01, n_estimators=2000,\n",
              "               num_leaves=64, random_state=42, reg_alpha=1.0, reg_lambda=1.0,\n",
              "               subsample=0.8)</pre></div> </div></div></div></div>"
            ]
          },
          "metadata": {},
          "execution_count": 34
        }
      ]
    },
    {
      "cell_type": "markdown",
      "source": [
        "\n",
        "# Ensemble prediksi"
      ],
      "metadata": {
        "id": "Obz6stFcU8QM"
      }
    },
    {
      "cell_type": "code",
      "source": [
        "cat_preds = cat_model.predict_proba(X_val_all)[:, 1]\n",
        "lgb_preds = lgb_model.predict_proba(X_val_all)[:, 1]\n",
        "ensemble_preds = (cat_preds + lgb_preds) / 2"
      ],
      "metadata": {
        "id": "aMFgszfCU-XD"
      },
      "execution_count": null,
      "outputs": []
    },
    {
      "cell_type": "markdown",
      "source": [
        "# Hitung AUC pada data validasi"
      ],
      "metadata": {
        "id": "eqzdKHOOVBtD"
      }
    },
    {
      "cell_type": "code",
      "source": [
        "\n",
        "cat_valid_preds = cat_model.predict_proba(X_valid)[:, 1]\n",
        "lgb_valid_preds = lgb_model.predict_proba(X_valid)[:, 1]\n",
        "ensemble_valid_preds = (cat_valid_preds + lgb_valid_preds) / 2\n",
        "\n",
        "cat_auc = roc_auc_score(y_valid, cat_valid_preds)\n",
        "lgb_auc = roc_auc_score(y_valid, lgb_valid_preds)\n",
        "ensemble_auc = roc_auc_score(y_valid, ensemble_valid_preds)\n",
        "\n",
        "print(f\"CatBoost AUC on validation set: {cat_auc:.4f}\")\n",
        "print(f\"LightGBM AUC on validation set: {lgb_auc:.4f}\")\n",
        "print(f\"Ensemble AUC on validation set: {ensemble_auc:.4f}\")\n"
      ],
      "metadata": {
        "colab": {
          "base_uri": "https://localhost:8080/"
        },
        "id": "yuNvxUW5QTLo",
        "outputId": "0dd371d3-937e-4117-d742-8928c644c5b0"
      },
      "execution_count": null,
      "outputs": [
        {
          "output_type": "stream",
          "name": "stdout",
          "text": [
            "CatBoost AUC on validation set: 0.9948\n",
            "LightGBM AUC on validation set: 0.9741\n",
            "Ensemble AUC on validation set: 0.9897\n"
          ]
        }
      ]
    },
    {
      "cell_type": "code",
      "source": [
        "# Simpan submission sesuai format\n",
        "submission = pd.DataFrame({\n",
        "    'customer_number': val_df['customer_number'],\n",
        "    'berlangganan_deposito': ensemble_preds\n",
        "})\n",
        "submission.to_csv('submission.csv', index=False)\n",
        "print('Submission saved to submission.csv')"
      ],
      "metadata": {
        "colab": {
          "base_uri": "https://localhost:8080/"
        },
        "id": "vpYG_lIuTrAI",
        "outputId": "8c35b877-6afc-4cea-db29-16d65c6a3c27"
      },
      "execution_count": null,
      "outputs": [
        {
          "output_type": "stream",
          "name": "stdout",
          "text": [
            "Submission saved to submission.csv\n"
          ]
        }
      ]
    }
  ]
}