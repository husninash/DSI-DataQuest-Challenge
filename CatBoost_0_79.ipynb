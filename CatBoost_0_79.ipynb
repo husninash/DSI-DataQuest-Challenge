{
  "cells": [
    {
      "cell_type": "code",
      "source": [
        "!pip install catboost"
      ],
      "metadata": {
        "colab": {
          "base_uri": "https://localhost:8080/"
        },
        "id": "u7xls7kVFIHv",
        "outputId": "56db2dea-7a9d-4ddc-d19e-5d19e7ad9f29"
      },
      "execution_count": 5,
      "outputs": [
        {
          "output_type": "stream",
          "name": "stdout",
          "text": [
            "Requirement already satisfied: catboost in /usr/local/lib/python3.11/dist-packages (1.2.8)\n",
            "Requirement already satisfied: graphviz in /usr/local/lib/python3.11/dist-packages (from catboost) (0.20.3)\n",
            "Requirement already satisfied: matplotlib in /usr/local/lib/python3.11/dist-packages (from catboost) (3.10.0)\n",
            "Requirement already satisfied: numpy<3.0,>=1.16.0 in /usr/local/lib/python3.11/dist-packages (from catboost) (2.0.2)\n",
            "Requirement already satisfied: pandas>=0.24 in /usr/local/lib/python3.11/dist-packages (from catboost) (2.2.2)\n",
            "Requirement already satisfied: scipy in /usr/local/lib/python3.11/dist-packages (from catboost) (1.15.3)\n",
            "Requirement already satisfied: plotly in /usr/local/lib/python3.11/dist-packages (from catboost) (5.24.1)\n",
            "Requirement already satisfied: six in /usr/local/lib/python3.11/dist-packages (from catboost) (1.17.0)\n",
            "Requirement already satisfied: python-dateutil>=2.8.2 in /usr/local/lib/python3.11/dist-packages (from pandas>=0.24->catboost) (2.9.0.post0)\n",
            "Requirement already satisfied: pytz>=2020.1 in /usr/local/lib/python3.11/dist-packages (from pandas>=0.24->catboost) (2025.2)\n",
            "Requirement already satisfied: tzdata>=2022.7 in /usr/local/lib/python3.11/dist-packages (from pandas>=0.24->catboost) (2025.2)\n",
            "Requirement already satisfied: contourpy>=1.0.1 in /usr/local/lib/python3.11/dist-packages (from matplotlib->catboost) (1.3.2)\n",
            "Requirement already satisfied: cycler>=0.10 in /usr/local/lib/python3.11/dist-packages (from matplotlib->catboost) (0.12.1)\n",
            "Requirement already satisfied: fonttools>=4.22.0 in /usr/local/lib/python3.11/dist-packages (from matplotlib->catboost) (4.58.0)\n",
            "Requirement already satisfied: kiwisolver>=1.3.1 in /usr/local/lib/python3.11/dist-packages (from matplotlib->catboost) (1.4.8)\n",
            "Requirement already satisfied: packaging>=20.0 in /usr/local/lib/python3.11/dist-packages (from matplotlib->catboost) (24.2)\n",
            "Requirement already satisfied: pillow>=8 in /usr/local/lib/python3.11/dist-packages (from matplotlib->catboost) (11.2.1)\n",
            "Requirement already satisfied: pyparsing>=2.3.1 in /usr/local/lib/python3.11/dist-packages (from matplotlib->catboost) (3.2.3)\n",
            "Requirement already satisfied: tenacity>=6.2.0 in /usr/local/lib/python3.11/dist-packages (from plotly->catboost) (9.1.2)\n"
          ]
        }
      ]
    },
    {
      "cell_type": "code",
      "source": [
        "\n",
        "\n",
        "import pandas as pd\n",
        "import numpy as np\n",
        "from sklearn.model_selection import StratifiedKFold, RandomizedSearchCV\n",
        "from sklearn.preprocessing import StandardScaler, OneHotEncoder\n",
        "from sklearn.compose import ColumnTransformer\n",
        "from sklearn.pipeline import Pipeline\n",
        "from sklearn.feature_selection import SelectKBest, mutual_info_classif\n",
        "from catboost import CatBoostClassifier\n",
        "\n",
        "\n",
        "# Load datasets\n",
        "train_df = pd.read_csv('/content/training_dataset (2).csv')\n",
        "val_df = pd.read_csv('/content/validation_set (1).csv')"
      ],
      "metadata": {
        "id": "WN_FFxPSDW5B"
      },
      "execution_count": 6,
      "outputs": []
    },
    {
      "source": [
        "\n",
        "target = 'berlangganan_deposito'\n",
        "features = [col for col in train_df.columns if col not in [target, 'customer_number']]\n",
        "X = train_df[features]\n",
        "y = train_df[target]\n",
        "X_val = val_df[features]\n",
        "\n",
        "# 3. Preprocessing\n",
        "numeric_features = X.select_dtypes(include=['int64', 'float64']).columns.tolist()\n",
        "categorical_features = X.select_dtypes(include=['object', 'category']).columns.tolist()\n",
        "\n",
        "numeric_transformer = Pipeline(steps=[\n",
        "    ('scaler', StandardScaler())\n",
        "])\n",
        "\n",
        "categorical_transformer = Pipeline(steps=[\n",
        "    ('onehot', OneHotEncoder(handle_unknown='ignore', sparse_output=False))\n",
        "])\n",
        "\n",
        "preprocessor = ColumnTransformer(transformers=[\n",
        "    ('num', numeric_transformer, numeric_features),\n",
        "    ('cat', categorical_transformer, categorical_features)\n",
        "])\n",
        "\n",
        "feature_selector = SelectKBest(score_func=mutual_info_classif, k='all')\n",
        "\n",
        "# 4. Pipeline\n",
        "pipe = Pipeline(steps=[\n",
        "    ('preprocessor', preprocessor),\n",
        "    ('selector', feature_selector),\n",
        "    ('classifier', CatBoostClassifier(verbose=0, random_state=42))\n",
        "])\n",
        "\n",
        "# 5. Parameter tuning\n",
        "param_dist = {\n",
        "    'classifier__iterations': [300, 500, 1000],\n",
        "    'classifier__learning_rate': [0.01, 0.03, 0.1],\n",
        "    'classifier__depth': [4, 6, 8],\n",
        "    'classifier__l2_leaf_reg': [1, 3, 5]\n",
        "}\n",
        "\n",
        "cv = StratifiedKFold(n_splits=5, shuffle=True, random_state=42)\n",
        "\n",
        "search = RandomizedSearchCV(pipe, param_distributions=param_dist,\n",
        "                            scoring='roc_auc', n_iter=10, cv=cv,\n",
        "                            verbose=2, n_jobs=-1, random_state=42)\n",
        "\n",
        "# 6. Fit model\n",
        "search.fit(X, y)\n",
        "\n",
        "# 7. Predict on validation set\n",
        "y_pred = search.best_estimator_.predict_proba(X_val)[:, 1]\n",
        "val_df['berlangganan_deposito'] = y_pred\n",
        "\n",
        "# 8. Save submission\n",
        "submission = val_df[['customer_number', 'berlangganan_deposito']]\n",
        "submission.to_csv('submission_catboost_tuned.csv', index=False)\n",
        "print(\"✅ Submission saved to 'submission_catboost_tuned.csv'\")\n",
        "print(\"Best CV AUC:\", search.best_score_)\n"
      ],
      "cell_type": "code",
      "metadata": {
        "colab": {
          "base_uri": "https://localhost:8080/"
        },
        "id": "OgLrz2qnDfC6",
        "outputId": "1c25877c-8a68-4945-ddf5-e54efee6e3b9"
      },
      "execution_count": 7,
      "outputs": [
        {
          "output_type": "stream",
          "name": "stdout",
          "text": [
            "Fitting 5 folds for each of 10 candidates, totalling 50 fits\n",
            "✅ Submission saved to 'submission_catboost_tuned.csv'\n",
            "Best CV AUC: 0.7960838841910659\n"
          ]
        }
      ]
    }
  ],
  "metadata": {
    "colab": {
      "provenance": []
    },
    "kernelspec": {
      "display_name": "Python 3",
      "name": "python3"
    },
    "language_info": {
      "name": "python"
    }
  },
  "nbformat": 4,
  "nbformat_minor": 0
}